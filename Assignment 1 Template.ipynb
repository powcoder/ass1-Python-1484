{
 "cells": [
  {
   "cell_type": "markdown",
   "metadata": {},
   "source": [
    "# Assignment 1\n",
    "\n",
    "(This text is copied in from the Course Handbook. Look through that for more context and __tips__!)\n",
    "\n",
    "This assignment addresses three learning outcomes equally:\n",
    "* LO1 - Program: Identify and deploy strategies for writing, understanding and managing computer programs using Python and version control\n",
    "* LO2 - Data: The ability to wrangle, analyse, learn from and visualise a range of data, in a way that demonstrates its relevance to particular contexts of enquiry\n",
    "* LO3 - Communicate: Communicate around socially relevant issues, supported by the use of multiple data sources and appropriate analysis.\n",
    "\n",
    "You are asked to carry out a structured analysis on a dataset that has been provided. You will be given a template Notebook that you should fill out with code, which you will then submit. There may be some problems with the data you have been given (i.e. there are definitely problems, and you have to fix them). You are given 3 files:\n",
    "* This template Notebook to fill in\n",
    "* The original dataset (restaurant_data.csv)\n",
    "* A re-ordered version of the data that you can use to check your analysis still works even if the data appears in a different order (restaurant_data_reordered.csv). You will be marked on this!\n",
    "\n",
    "## Submission\n",
    "Your submission is a single Jupyter Notebook, submitted through Learn. You should stick to the original structure, putting your code into the code boxes (and creating new code boxes as necessary). Placeholders in the original file such asl “I found these strange things” should be replaced with the strange things that you actually found when doing your analysis.\n",
    "\n",
    "Your notebook:\n",
    "* Must be entirely stand-alone - it should assume that the data file is in the same directory, but cannot use any additional data. \n",
    "* Must only use modules available on the Edina Notebook server\n",
    "* Must be submitted with  all of output from the calculations included\n",
    "* Must work if we press “Clear all output” and then “Run all cells” - CHECK THIS BEFORE HANDING IN!\n",
    "* Must also work with the re-ordered dataset, without changing any code (this checks that you are working with the values of data, not its location in the file.)\n"
   ]
  },
  {
   "cell_type": "markdown",
   "metadata": {},
   "source": [
    "# Setup"
   ]
  },
  {
   "cell_type": "code",
   "execution_count": null,
   "metadata": {},
   "outputs": [],
   "source": [
    "# Necessary import\n",
    "import pandas as pd"
   ]
  },
  {
   "cell_type": "markdown",
   "metadata": {},
   "source": [
    "First, load the data, from the supplied data file"
   ]
  },
  {
   "cell_type": "code",
   "execution_count": null,
   "metadata": {},
   "outputs": [],
   "source": [
    "# Read in the data\n",
    "data = pd.read_csv(\"restaurant_data.csv\")\n",
    "\n",
    "# At the end, you'll need to retry this with the re-ordered version by uncommenting these lines:\n",
    "# data = pd.read_csv(\"restaurant_data_reordered.csv\")\n",
    "\n",
    "# Have a look at it\n",
    "data.head()"
   ]
  },
  {
   "cell_type": "markdown",
   "metadata": {},
   "source": [
    "# Cleaning\n",
    "\n",
    "The data had some some strange things in. Write down all of the strange things that you found here:"
   ]
  },
  {
   "cell_type": "markdown",
   "metadata": {},
   "source": [
    "### I found the following strange things:\n",
    "* Strange thing 1"
   ]
  },
  {
   "cell_type": "markdown",
   "metadata": {},
   "source": [
    "Now, clean the data. Use a separate cell for each operation, and use a text cell to explain _why_ you are doing each operation"
   ]
  },
  {
   "cell_type": "markdown",
   "metadata": {},
   "source": [
    "First, I am removing all of the 'X' from the data. This is because 'Y'"
   ]
  },
  {
   "cell_type": "code",
   "execution_count": null,
   "metadata": {},
   "outputs": [],
   "source": [
    "# Cleaning code goes in here"
   ]
  },
  {
   "cell_type": "markdown",
   "metadata": {},
   "source": [
    "Next, I am changing all of the P to Q"
   ]
  },
  {
   "cell_type": "code",
   "execution_count": null,
   "metadata": {},
   "outputs": [],
   "source": [
    "# More cleaning code goes in here"
   ]
  },
  {
   "cell_type": "markdown",
   "metadata": {},
   "source": [
    "Now that your data is clean, use some assert statements to check that it fits your picture of how the data should be. Make sure each assert explains why it is there. You should have several asserts, for all of the things that you found in the data that were strange."
   ]
  },
  {
   "cell_type": "code",
   "execution_count": null,
   "metadata": {},
   "outputs": [],
   "source": [
    "assert 3 > 2, \"Larger numbers should be greater than smaller numbers\" \n",
    "assert 2 > 3, \"This assert should fail - take it out of your notebook\""
   ]
  },
  {
   "cell_type": "markdown",
   "metadata": {},
   "source": [
    "# Simple Statistical Questions\n",
    "For each of these, we want a command that just prints the relevant answer. The first one has been filled out as an example\n"
   ]
  },
  {
   "cell_type": "markdown",
   "metadata": {},
   "source": [
    "How many rows are in the dataset after cleaning?"
   ]
  },
  {
   "cell_type": "code",
   "execution_count": null,
   "metadata": {},
   "outputs": [],
   "source": [
    "data.shape[0] # Simply count the number of rows using shape, and select the first element"
   ]
  },
  {
   "cell_type": "markdown",
   "metadata": {},
   "source": [
    "What is the total amount of money given in tips?"
   ]
  },
  {
   "cell_type": "code",
   "execution_count": null,
   "metadata": {},
   "outputs": [],
   "source": []
  },
  {
   "cell_type": "markdown",
   "metadata": {},
   "source": [
    "How many people are in the largest group?"
   ]
  },
  {
   "cell_type": "code",
   "execution_count": null,
   "metadata": {},
   "outputs": [],
   "source": []
  },
  {
   "cell_type": "markdown",
   "metadata": {},
   "source": [
    "Count how many of the bills were paid by males, and how many were paid by females"
   ]
  },
  {
   "cell_type": "code",
   "execution_count": null,
   "metadata": {},
   "outputs": [],
   "source": []
  },
  {
   "cell_type": "markdown",
   "metadata": {},
   "source": [
    "What was the larges amount of money given as a tip?"
   ]
  },
  {
   "cell_type": "code",
   "execution_count": null,
   "metadata": {},
   "outputs": [],
   "source": []
  },
  {
   "cell_type": "markdown",
   "metadata": {},
   "source": [
    "What day of the week was the largest tip given on?"
   ]
  },
  {
   "cell_type": "code",
   "execution_count": null,
   "metadata": {},
   "outputs": [],
   "source": []
  },
  {
   "cell_type": "markdown",
   "metadata": {},
   "source": [
    "Add a column with the proportion of the bill given as in your DataFrame (e.g. if the meal cost £10 and the tip was £2.5, the column would contain 0.25).\n",
    "What is the average proportion of the bill that people add as a tip? "
   ]
  },
  {
   "cell_type": "code",
   "execution_count": null,
   "metadata": {},
   "outputs": [],
   "source": []
  },
  {
   "cell_type": "markdown",
   "metadata": {},
   "source": [
    "Looking at the average proportion of each meal given as a tip, are males or females more generous? Which group gives a larger proportion on average, and what is the difference?"
   ]
  },
  {
   "cell_type": "code",
   "execution_count": null,
   "metadata": {},
   "outputs": [],
   "source": []
  },
  {
   "cell_type": "markdown",
   "metadata": {},
   "source": [
    "Do smokers tip more generously (a higher proportion of the bill) at lunchtime than at dinnertime?"
   ]
  },
  {
   "cell_type": "code",
   "execution_count": null,
   "metadata": {},
   "outputs": [],
   "source": []
  },
  {
   "cell_type": "markdown",
   "metadata": {},
   "source": [
    "Do smokers give more total money as tips at lunchtime or at dinnertime?"
   ]
  },
  {
   "cell_type": "code",
   "execution_count": null,
   "metadata": {},
   "outputs": [],
   "source": []
  },
  {
   "cell_type": "markdown",
   "metadata": {},
   "source": [
    "# Graphs\n",
    "For all these questions, create a graph, and explain what conclusions you draw from the graph using a text field."
   ]
  },
  {
   "cell_type": "markdown",
   "metadata": {},
   "source": [
    "What is the distribution of tips, and what is the distribution of total bills (plot on separate graphs). Hint: distplot"
   ]
  },
  {
   "cell_type": "code",
   "execution_count": null,
   "metadata": {},
   "outputs": [],
   "source": []
  },
  {
   "cell_type": "code",
   "execution_count": null,
   "metadata": {},
   "outputs": [],
   "source": []
  },
  {
   "cell_type": "markdown",
   "metadata": {},
   "source": [
    "Now plot them on the *same* plot, and add a legend. Hint: use attribute 'label' to give them names, and call legend() on one of the plots to draw the legend"
   ]
  },
  {
   "cell_type": "code",
   "execution_count": null,
   "metadata": {},
   "outputs": [],
   "source": []
  },
  {
   "cell_type": "markdown",
   "metadata": {},
   "source": [
    "## Excercises\n",
    "\n",
    "For all these questions, create a graph, and explain what conclusions you draw from the graph using a text field. It is not enough to just make the graph, you have to say what you are reading from it.\n",
    "\n",
    "Do people give different average tips on different days? (Have you calculated this relative to the size of the bill, or just the tip amount?) Hint: boxplot"
   ]
  },
  {
   "cell_type": "code",
   "execution_count": null,
   "metadata": {},
   "outputs": [],
   "source": []
  },
  {
   "cell_type": "markdown",
   "metadata": {},
   "source": [
    "How does the size of the tip relate to the size of the bill? Hint: scatterplot, lmplot"
   ]
  },
  {
   "cell_type": "code",
   "execution_count": null,
   "metadata": {},
   "outputs": [],
   "source": []
  },
  {
   "cell_type": "markdown",
   "metadata": {},
   "source": [
    "Does the proportion of the bill given as a tip relate to the number of people eating?"
   ]
  },
  {
   "cell_type": "code",
   "execution_count": null,
   "metadata": {},
   "outputs": [],
   "source": []
  },
  {
   "cell_type": "markdown",
   "metadata": {},
   "source": [
    "Bonus Question: Create a boxplot showing total bills and tips for each day next to each other in a different colour. Do you see any patterns?\n",
    "\n",
    "Hint: use melt (https://pandas.pydata.org/pandas-docs/stable/generated/pandas.melt.html) to reshape the data, so that you have new dataset, with a column for the day, a column for the amount, and a type column that says whether it is a total_bill or a tip. Then you can boxplot that, and use the type column to set the color."
   ]
  },
  {
   "cell_type": "code",
   "execution_count": null,
   "metadata": {},
   "outputs": [],
   "source": []
  },
  {
   "cell_type": "markdown",
   "metadata": {},
   "source": [
    "# Open Question\n",
    "Use 2 graphs and associated text to explain something else that you have found in the data. Try to relate it to causes, i.e. explain *why* the data might be this way. There is a lot you don't know, so it's OK to guess - think about what happens when people go to restaurants, and what might be a possible cause for what you see in the data."
   ]
  },
  {
   "cell_type": "code",
   "execution_count": null,
   "metadata": {},
   "outputs": [],
   "source": []
  },
  {
   "cell_type": "markdown",
   "metadata": {},
   "source": [
    "# Reflection\n",
    "Write up to 100 words about your experience and what you have learnt. Which parts of the tools were useful, how can you relate what you've done in this assignment to your personal practice?"
   ]
  },
  {
   "cell_type": "markdown",
   "metadata": {},
   "source": [
    "..."
   ]
  },
  {
   "cell_type": "code",
   "execution_count": null,
   "metadata": {},
   "outputs": [],
   "source": []
  }
 ],
 "metadata": {
  "kernelspec": {
   "display_name": "Python 3",
   "language": "python",
   "name": "python3"
  },
  "language_info": {
   "codemirror_mode": {
    "name": "ipython",
    "version": 3
   },
   "file_extension": ".py",
   "mimetype": "text/x-python",
   "name": "python",
   "nbconvert_exporter": "python",
   "pygments_lexer": "ipython3",
   "version": "3.7.7"
  }
 },
 "nbformat": 4,
 "nbformat_minor": 2
}
